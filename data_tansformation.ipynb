{
 "cells": [
  {
   "cell_type": "code",
   "execution_count": 7,
   "metadata": {},
   "outputs": [
    {
     "name": "stdout",
     "output_type": "stream",
     "text": [
      "✅ Weekly transformed data saved as 'covid_weekly_transformed.csv' for Flourish.\n"
     ]
    }
   ],
   "source": [
    "import pandas as pd\n",
    "\n",
    "# Load CSV (Ensure correct filename and check if the date column is named correctly)\n",
    "df = pd.read_csv(\"COVID_US_cases.csv\", parse_dates=[\"date\"])\n",
    "\n",
    "# Ensure lowercase column names to avoid key errors\n",
    "df.columns = df.columns.str.lower()\n",
    "\n",
    "# Create \"Week Start Date\" (Monday as the start of the week)\n",
    "df[\"week_start_date\"] = df[\"date\"] - pd.to_timedelta(df[\"date\"].dt.weekday, unit=\"D\")\n",
    "\n",
    "# Aggregate weekly data\n",
    "weekly_df = df.groupby(\"week_start_date\", as_index=False).agg({\n",
    "    \"new_confirmed\": \"sum\",\n",
    "    \"new_deceased\": \"sum\",\n",
    "    \"new_recovered\": \"sum\",\n",
    "    \"new_tested\": \"sum\",\n",
    "    \"cumulative_confirmed\": \"max\",  # Cumulative numbers should not be summed, use max()\n",
    "    \"cumulative_deceased\": \"max\",\n",
    "    \"cumulative_recovered\": \"max\",\n",
    "    \"cumulative_tested\": \"max\"\n",
    "})\n",
    "\n",
    "# Compute proportions (%) of total tested\n",
    "weekly_df[\"confirmed_rate\"] = (weekly_df[\"new_confirmed\"] / weekly_df[\"cumulative_tested\"]) * 100\n",
    "weekly_df[\"deceased_rate\"] = (weekly_df[\"new_deceased\"] / weekly_df[\"cumulative_tested\"]) * 100\n",
    "weekly_df[\"recovered_rate\"] = (weekly_df[\"new_recovered\"] / weekly_df[\"cumulative_tested\"]) * 100\n",
    "\n",
    "# Compute mortality rate (%) (Deaths per Confirmed Cases)\n",
    "weekly_df[\"mortality_rate\"] = (weekly_df[\"new_deceased\"] / weekly_df[\"new_confirmed\"]) * 100\n",
    "\n",
    "# Ensure there are no divide-by-zero errors\n",
    "weekly_df.replace([float(\"inf\"), -float(\"inf\")], 0, inplace=True)\n",
    "weekly_df.fillna(0, inplace=True)\n",
    "\n",
    "# Reshape the DataFrame for Flourish (Long Format)\n",
    "flourish_df = weekly_df.melt(id_vars=[\"week_start_date\"], \n",
    "                              value_vars=[\"confirmed_rate\", \"deceased_rate\", \"recovered_rate\"],\n",
    "                              var_name=\"category\", \n",
    "                              value_name=\"value\")\n",
    "\n",
    "# Rename columns for clarity\n",
    "flourish_df.rename(columns={\"week_start_date\": \"Week Start Date\", \"category\": \"Category\", \"value\": \"Value\"}, inplace=True)\n",
    "\n",
    "# Save the final transformed CSV\n",
    "flourish_df.to_csv(\"covid_weekly_transformed.csv\", index=False)\n",
    "\n",
    "print(\"✅ Weekly transformed data saved as 'covid_weekly_transformed.csv' for Flourish.\")\n",
    "\n",
    "\n"
   ]
  }
 ],
 "metadata": {
  "kernelspec": {
   "display_name": "Python 3",
   "language": "python",
   "name": "python3"
  },
  "language_info": {
   "codemirror_mode": {
    "name": "ipython",
    "version": 3
   },
   "file_extension": ".py",
   "mimetype": "text/x-python",
   "name": "python",
   "nbconvert_exporter": "python",
   "pygments_lexer": "ipython3",
   "version": "3.12.6"
  }
 },
 "nbformat": 4,
 "nbformat_minor": 2
}
